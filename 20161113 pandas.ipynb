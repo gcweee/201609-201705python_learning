{
 "cells": [
  {
   "cell_type": "code",
   "execution_count": 2,
   "metadata": {
    "collapsed": true
   },
   "outputs": [],
   "source": [
    "import os\n",
    "os.chdir(r'C:\\Users\\gcwee\\Documents\\HUST\\课程\\python\\files')"
   ]
  },
  {
   "cell_type": "code",
   "execution_count": 4,
   "metadata": {
    "collapsed": false
   },
   "outputs": [
    {
     "data": {
      "text/plain": [
       "'C:\\\\Users\\\\gcwee\\\\Documents\\\\HUST\\\\课程\\\\python\\\\files'"
      ]
     },
     "execution_count": 4,
     "metadata": {},
     "output_type": "execute_result"
    }
   ],
   "source": [
    "os.getcwd()"
   ]
  },
  {
   "cell_type": "markdown",
   "metadata": {},
   "source": [
    "Pandas is a package of fast, efficient data analysis tools for Python\n",
    "\n",
    "   Just as NumPy provides the basic array type plus core array operations, pandas defines some fundamental structures for working with data and endows them with methods that form the first steps of data analysis\n",
    "    \n",
    "   The most important data type defined by pandas is a DataFrame, which is an object for storing related columns of data\n",
    "    \n",
    "   In this sense, you can think of a DataFrame as analogous to a (highly optimized) Excel spreadsheet, or as a structure for storing the XX matrix in a linear regression\n",
    "\n",
    "   In the same way that NumPy specializes in basic array operations and leaves the rest of scientific tool development to other packages (e.g., SciPy, Matplotlib), pandas focuses on the fundamental data types and their methods, leaving other packages to add more sophisticated statistical functionality\n",
    "   \n",
    "   The strengths of pandas lie in\n",
    "    \n",
    "       reading in data\n",
    "       manipulating rows and columns\n",
    "       adjusting indices\n",
    "       working with dates and time series\n",
    "       sorting, grouping, re-ordering and general data munging\n",
    "       dealing with missing values, etc., etc."
   ]
  },
  {
   "cell_type": "markdown",
   "metadata": {},
   "source": [
    "Throughout the lecture we will assume that the following imports have taken place"
   ]
  },
  {
   "cell_type": "code",
   "execution_count": 5,
   "metadata": {
    "collapsed": true
   },
   "outputs": [],
   "source": [
    "%matplotlib inline\n",
    "import pandas as pd\n",
    "import numpy as np"
   ]
  },
  {
   "cell_type": "markdown",
   "metadata": {},
   "source": [
    "# Series "
   ]
  },
  {
   "cell_type": "markdown",
   "metadata": {},
   "source": [
    "together with DataFrame are the two most important data types"
   ]
  },
  {
   "cell_type": "code",
   "execution_count": 25,
   "metadata": {
    "collapsed": false
   },
   "outputs": [
    {
     "data": {
      "text/plain": [
       "0   -0.670619\n",
       "1    0.567077\n",
       "2    0.170801\n",
       "3   -0.641043\n",
       "Name: daily returns, dtype: float64"
      ]
     },
     "execution_count": 25,
     "metadata": {},
     "output_type": "execute_result"
    }
   ],
   "source": [
    "s=pd.Series(np.random.randn(4),name='daily returns')\n",
    "s"
   ]
  },
  {
   "cell_type": "code",
   "execution_count": 28,
   "metadata": {
    "collapsed": false
   },
   "outputs": [
    {
     "data": {
      "text/plain": [
       "0   -67.061946\n",
       "1    56.707691\n",
       "2    17.080058\n",
       "3   -64.104254\n",
       "Name: daily returns, dtype: float64"
      ]
     },
     "execution_count": 28,
     "metadata": {},
     "output_type": "execute_result"
    }
   ],
   "source": [
    "s*100"
   ]
  },
  {
   "cell_type": "code",
   "execution_count": 29,
   "metadata": {
    "collapsed": false
   },
   "outputs": [
    {
     "data": {
      "text/plain": [
       "0    0.670619\n",
       "1    0.567077\n",
       "2    0.170801\n",
       "3    0.641043\n",
       "Name: daily returns, dtype: float64"
      ]
     },
     "execution_count": 29,
     "metadata": {},
     "output_type": "execute_result"
    }
   ],
   "source": [
    "np.abs(s)"
   ]
  },
  {
   "cell_type": "markdown",
   "metadata": {},
   "source": [
    "Series can provide historical methods like describe() "
   ]
  },
  {
   "cell_type": "code",
   "execution_count": 31,
   "metadata": {
    "collapsed": false
   },
   "outputs": [
    {
     "data": {
      "text/plain": [
       "count    4.000000\n",
       "mean    -0.143446\n",
       "std      0.613489\n",
       "min     -0.670619\n",
       "25%     -0.648437\n",
       "50%     -0.235121\n",
       "75%      0.269870\n",
       "max      0.567077\n",
       "Name: daily returns, dtype: float64"
      ]
     },
     "execution_count": 31,
     "metadata": {},
     "output_type": "execute_result"
    }
   ],
   "source": [
    "s.describe() #"
   ]
  },
  {
   "cell_type": "markdown",
   "metadata": {},
   "source": [
    "and Series's indices are more flexible"
   ]
  },
  {
   "cell_type": "code",
   "execution_count": 32,
   "metadata": {
    "collapsed": false,
    "scrolled": true
   },
   "outputs": [
    {
     "data": {
      "text/plain": [
       "AMAZ     0.000000\n",
       "TOM      0.567077\n",
       "JERRY    0.170801\n",
       "NORM    -0.641043\n",
       "Name: daily returns, dtype: float64"
      ]
     },
     "execution_count": 32,
     "metadata": {},
     "output_type": "execute_result"
    }
   ],
   "source": [
    "s.index=['AMAZ','TOM','JERRY','NORM']\n",
    "s['AMAZ']=0\n",
    "s"
   ]
  },
  {
   "cell_type": "markdown",
   "metadata": {},
   "source": [
    "# DataFrame"
   ]
  },
  {
   "cell_type": "markdown",
   "metadata": {},
   "source": [
    "As mentioned above a DataFrame is somewhat like a spreadsheet, or a structure for storing the data matrix in a regression\n",
    "\n",
    "While a Series is one individual column of data, a DataFrame is all the columns"
   ]
  },
  {
   "cell_type": "code",
   "execution_count": 34,
   "metadata": {
    "collapsed": true
   },
   "outputs": [],
   "source": [
    "# Let’s look at an example, reading in data from the CSV file pandas/test_pwt.csv in the applications repository\n",
    "# Here’s the contents of test_pwt.csv, which is a small excerpt from the Penn World Tables"
   ]
  },
  {
   "cell_type": "markdown",
   "metadata": {},
   "source": [
    "    df = pd.read_csv('test_pwt.csv')\n",
    "    type(df)\n",
    "    We can select particular rows using standard Python array slicing notation\n",
    "    In [ ]:\n",
    "    df[2:5]\n",
    "\n",
    "    To select columns, we can pass a list containing the names of the desired columns represented as strings\n",
    "    In [ ]:\n",
    "    df[['country', 'tcgdp']]\n",
    "\n",
    "    To select a mix of both we can use the ix attribute\n",
    "    In [ ]:\n",
    "    df.ix[2:5, ['country', 'tcgdp']]"
   ]
  },
  {
   "cell_type": "code",
   "execution_count": 40,
   "metadata": {
    "collapsed": false
   },
   "outputs": [
    {
     "data": {
      "text/plain": [
       "pandas.core.frame.DataFrame"
      ]
     },
     "execution_count": 40,
     "metadata": {},
     "output_type": "execute_result"
    }
   ],
   "source": [
    "df=pd.read_table(r'C:\\Users\\gcwee\\Documents\\HUST\\课程\\python\\data_text\\WAGE1_description.txt')\n",
    "type(df)"
   ]
  },
  {
   "cell_type": "markdown",
   "metadata": {},
   "source": [
    "Here the index 0, 1,..., 7 is redundant, because we can use the country names as an index\n",
    "\n",
    "To do this, first let’s pull out the country column using the pop method"
   ]
  },
  {
   "cell_type": "markdown",
   "metadata": {},
   "source": [
    "    countries = df.pop('country')\n",
    "    type(countries)\n",
    "    In [ ]:\n",
    "    countries\n",
    "    In [ ]:\n",
    "    df\n",
    "    In [ ]:\n",
    "    df.index = countries  #change the index 0,1,2.... into countries\n",
    "    df"
   ]
  },
  {
   "cell_type": "markdown",
   "metadata": {},
   "source": [
    "Let’s give the columns slightly better names\n",
    "\n",
    "    In [ ]:\n",
    "    df.columns = 'population', 'total GDP'\n",
    "    df\n",
    "\n",
    "Population is in thousands, let’s revert to single units\n",
    "\n",
    "    In [ ]:\n",
    "    df['population'] = df['population'] * 1e3(10^3)\n",
    "    df"
   ]
  },
  {
   "cell_type": "markdown",
   "metadata": {},
   "source": [
    "Next we’re going to add a column showing real GDP per capita:\n",
    "\n",
    "    multiplying by 1,000,000 as we go because total GDP is in millions\n",
    "\n",
    "    In [ ]:\n",
    "    df['GDP percap'] = df['total GDP'] * 1e6 / df['population']\n",
    "    df\n",
    "\n",
    "One of the nice things about pandas DataFrame and Series objects\n",
    "\n",
    "    they have methods for plotting and visualization that work through Matplotlib\n",
    "    \n",
    "For example, we can easily generate a bar plot of GDP per capita\n",
    "\n",
    "    In [ ]:\n",
    "    df['GDP percap'].plot(kind='bar')\n",
    "    import matplotlib.pyplot as plt\n",
    "    plt.show()\n",
    "\n",
    "At the moment the data frame is ordered alphabetically on the countries\n",
    "\n",
    "    let’s change it to GDP per capita\n",
    "    \n",
    "    In [ ]:\n",
    "    df = df.sort_values(by='GDP percap', ascending=False)\n",
    "    df\n",
    "\n",
    "Plotting as before now yields\n",
    "\n",
    "    In [ ]:\n",
    "    df['GDP percap'].plot(kind='bar')\n",
    "    plt.show()"
   ]
  }
 ],
 "metadata": {
  "kernelspec": {
   "display_name": "Python [conda root]",
   "language": "python",
   "name": "conda-root-py"
  },
  "language_info": {
   "codemirror_mode": {
    "name": "ipython",
    "version": 3
   },
   "file_extension": ".py",
   "mimetype": "text/x-python",
   "name": "python",
   "nbconvert_exporter": "python",
   "pygments_lexer": "ipython3",
   "version": "3.5.2"
  }
 },
 "nbformat": 4,
 "nbformat_minor": 1
}
